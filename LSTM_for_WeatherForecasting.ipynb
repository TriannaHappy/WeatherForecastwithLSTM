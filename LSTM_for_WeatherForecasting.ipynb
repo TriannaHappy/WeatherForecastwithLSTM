{
  "nbformat": 4,
  "nbformat_minor": 0,
  "metadata": {
    "colab": {
      "provenance": [],
      "mount_file_id": "1K0UnXr9Uxtydq6kfGzVF6ufVztF5asgY",
      "authorship_tag": "ABX9TyOMhfVj4uiaVLIwE+peX3fB",
      "include_colab_link": true
    },
    "kernelspec": {
      "name": "python3",
      "display_name": "Python 3"
    },
    "language_info": {
      "name": "python"
    }
  },
  "cells": [
    {
      "cell_type": "markdown",
      "metadata": {
        "id": "view-in-github",
        "colab_type": "text"
      },
      "source": [
        "<a href=\"https://colab.research.google.com/github/TriannaHappy/WeatherForecastwithLSTM/blob/main/LSTM_for_WeatherForecasting.ipynb\" target=\"_parent\"><img src=\"https://colab.research.google.com/assets/colab-badge.svg\" alt=\"Open In Colab\"/></a>"
      ]
    },
    {
      "cell_type": "markdown",
      "source": [
        "# Import Libraries"
      ],
      "metadata": {
        "id": "FFO5l3gr9WbM"
      }
    },
    {
      "cell_type": "code",
      "execution_count": 33,
      "metadata": {
        "id": "6qvbqz5f2__R"
      },
      "outputs": [],
      "source": [
        "import pandas as pd\n",
        "from pylab import *\n",
        "import numpy as np\n",
        "import glob\n",
        "import warnings\n",
        "import datetime\n",
        "warnings.filterwarnings('ignore')\n",
        "\n",
        "import matplotlib.pyplot as plt\n",
        "#from mpl_toolkits.basemap import Basemap\n",
        "import seaborn as sns\n",
        "\n",
        "import statsmodels.api as sm\n",
        "from sklearn.model_selection import train_test_split\n",
        "from sklearn.preprocessing import MinMaxScaler, PolynomialFeatures, RobustScaler\n",
        "from sklearn.linear_model import LinearRegression, Ridge\n",
        "from sklearn.pipeline import make_pipeline\n",
        "from scipy.stats import stats, skew, pearsonr\n",
        "\n",
        "import tensorflow as tf\n",
        "from tensorflow.keras.models import Model, Sequential\n",
        "from tensorflow.keras.layers import Dense, GlobalAveragePooling1D, Input, LSTM, Dropout, Bidirectional\n",
        "from sklearn.metrics import mean_absolute_error,mean_squared_error, r2_score"
      ]
    },
    {
      "cell_type": "markdown",
      "source": [
        "# Data Loading"
      ],
      "metadata": {
        "id": "LCMWQe9q9ZtW"
      }
    },
    {
      "cell_type": "code",
      "source": [
        "pathpath='/content/drive/MyDrive/Data/bmkg data'\n",
        "Bandung=pd.read_excel(pathpath+'/scrap/Stasiun Geofisika Bandung 2000-2024_scrap.xlsx')\n",
        "Bandung_met=Bandung.iloc[8:-16,:]\n",
        "Bandung_met.columns=Bandung.iloc[7]\n",
        "Bandung_met.reset_index(drop=True, inplace=True)\n",
        "\n",
        "for column in Bandung_met.columns[1:-1]:\n",
        "    Bandung_met[column]=pd.to_numeric(Bandung_met[column])\n",
        "    Bandung_met[column].replace(8888, np.nan, inplace=True)\n",
        "    Bandung_met[column].replace(9999, np.nan, inplace=True)\n",
        "\n",
        "Bandung_met=Bandung_met[:-3]\n",
        "\n",
        "Bandung_met['Tanggal']=pd.to_datetime(Bandung_met['Tanggal'], format='%d-%m-%Y')\n",
        "Bandung_met.info()"
      ],
      "metadata": {
        "id": "Z_Ko_zZw9avI",
        "colab": {
          "base_uri": "https://localhost:8080/"
        },
        "outputId": "2c352c03-95e5-4fa0-84f9-3cf190238e23"
      },
      "execution_count": 34,
      "outputs": [
        {
          "output_type": "stream",
          "name": "stdout",
          "text": [
            "<class 'pandas.core.frame.DataFrame'>\n",
            "RangeIndex: 8861 entries, 0 to 8860\n",
            "Data columns (total 11 columns):\n",
            " #   Column   Non-Null Count  Dtype         \n",
            "---  ------   --------------  -----         \n",
            " 0   Tanggal  8861 non-null   datetime64[ns]\n",
            " 1   Tn       8474 non-null   float64       \n",
            " 2   Tx       8531 non-null   float64       \n",
            " 3   Tavg     8702 non-null   float64       \n",
            " 4   RH_avg   8557 non-null   float64       \n",
            " 5   RR       7565 non-null   float64       \n",
            " 6   ss       8458 non-null   float64       \n",
            " 7   ff_x     8742 non-null   float64       \n",
            " 8   ddd_x    8732 non-null   float64       \n",
            " 9   ff_avg   8745 non-null   float64       \n",
            " 10  ddd_car  8578 non-null   object        \n",
            "dtypes: datetime64[ns](1), float64(9), object(1)\n",
            "memory usage: 761.6+ KB\n"
          ]
        }
      ]
    },
    {
      "cell_type": "code",
      "source": [
        "Bandung_met.isnull().mean()*100"
      ],
      "metadata": {
        "colab": {
          "base_uri": "https://localhost:8080/"
        },
        "id": "9AQjiVCccdfy",
        "outputId": "f7ec0010-c727-4a3f-8b78-15bbdc9fce5c"
      },
      "execution_count": 35,
      "outputs": [
        {
          "output_type": "execute_result",
          "data": {
            "text/plain": [
              "7\n",
              "Tanggal     0.000000\n",
              "Tn          4.367453\n",
              "Tx          3.724185\n",
              "Tavg        1.794380\n",
              "RH_avg      3.430764\n",
              "RR         14.625889\n",
              "ss          4.548019\n",
              "ff_x        1.342964\n",
              "ddd_x       1.455818\n",
              "ff_avg      1.309107\n",
              "ddd_car     3.193770\n",
              "dtype: float64"
            ]
          },
          "metadata": {},
          "execution_count": 35
        }
      ]
    },
    {
      "cell_type": "markdown",
      "source": [
        "# Feature Engineering"
      ],
      "metadata": {
        "id": "Hx4soMVG9bNk"
      }
    },
    {
      "cell_type": "markdown",
      "source": [
        "## Handling Missing Value"
      ],
      "metadata": {
        "id": "pxVD03Ot-FNg"
      }
    },
    {
      "cell_type": "code",
      "source": [
        "Bandung_met_copy=Bandung_met.set_index('Tanggal')\n",
        "Bandung_met_copy['Tavg'] = Bandung_met_copy['Tavg'].interpolate(method='time')\n",
        "Bandung_met_copy['Tx'] = Bandung_met_copy['Tx'].interpolate(method='time')\n",
        "Bandung_met_copy['Tn'] = Bandung_met_copy['Tn'].interpolate(method='time')\n",
        "Bandung_met_copy['RH_avg'] = Bandung_met_copy['RH_avg'].interpolate(method='time')\n",
        "Bandung_met_copy['RR'] = Bandung_met_copy['RR'].fillna(0)\n",
        "Bandung_met_copy.isnull().mean()*100"
      ],
      "metadata": {
        "colab": {
          "base_uri": "https://localhost:8080/"
        },
        "id": "G7LIOMowdJjc",
        "outputId": "dcd9485d-436d-425c-ba87-72257190e102"
      },
      "execution_count": 36,
      "outputs": [
        {
          "output_type": "execute_result",
          "data": {
            "text/plain": [
              "7\n",
              "Tn         0.000000\n",
              "Tx         0.000000\n",
              "Tavg       0.000000\n",
              "RH_avg     0.000000\n",
              "RR         0.000000\n",
              "ss         4.548019\n",
              "ff_x       1.342964\n",
              "ddd_x      1.455818\n",
              "ff_avg     1.309107\n",
              "ddd_car    3.193770\n",
              "dtype: float64"
            ]
          },
          "metadata": {},
          "execution_count": 36
        }
      ]
    },
    {
      "cell_type": "markdown",
      "source": [
        "## Handling Outlier"
      ],
      "metadata": {
        "id": "l4H4iLJ--IMZ"
      }
    },
    {
      "cell_type": "code",
      "source": [
        "Bandung_met_copy"
      ],
      "metadata": {
        "colab": {
          "base_uri": "https://localhost:8080/",
          "height": 455
        },
        "id": "uABbTZ6iiN4b",
        "outputId": "e3ad8b79-a8ed-4406-8fc0-333ba42522ba"
      },
      "execution_count": 37,
      "outputs": [
        {
          "output_type": "execute_result",
          "data": {
            "text/plain": [
              "7             Tn    Tx  Tavg  RH_avg    RR   ss  ff_x  ddd_x  ff_avg ddd_car\n",
              "Tanggal                                                                     \n",
              "2000-01-01  19.0  28.6  23.5    78.0   2.8  6.6   3.0  270.0     3.0      W \n",
              "2000-01-02  20.0  28.8  22.8    83.0   0.0  6.1   3.0  270.0     3.0      W \n",
              "2000-01-03  19.0  29.0  23.2    82.0   1.8  6.1   4.0  270.0     3.0      W \n",
              "2000-01-04  19.0  26.0  21.5    92.0   5.0  0.5   0.0    0.0     0.0      N \n",
              "2000-01-05  18.0  28.4  22.6    83.0  28.4  3.0   0.0    0.0     0.0      N \n",
              "...          ...   ...   ...     ...   ...  ...   ...    ...     ...     ...\n",
              "2024-03-31  20.6  32.0  26.1    73.0   0.0  6.1   2.0   10.0     0.0      C \n",
              "2024-04-01  20.4  30.4  24.8    81.0   0.4  6.8   3.0  300.0     0.0      C \n",
              "2024-04-02  21.8  30.4  25.9    81.0  11.6  5.9   3.0  250.0     1.0      C \n",
              "2024-04-03  21.4  30.8  25.4    81.0   5.6  6.0   3.0   90.0     0.0      C \n",
              "2024-04-04  22.2  29.8  25.5    81.0   1.7  2.9   2.0  290.0     0.0      C \n",
              "\n",
              "[8861 rows x 10 columns]"
            ],
            "text/html": [
              "\n",
              "  <div id=\"df-3ba81ffc-0c0b-468c-b650-49427f07beda\" class=\"colab-df-container\">\n",
              "    <div>\n",
              "<style scoped>\n",
              "    .dataframe tbody tr th:only-of-type {\n",
              "        vertical-align: middle;\n",
              "    }\n",
              "\n",
              "    .dataframe tbody tr th {\n",
              "        vertical-align: top;\n",
              "    }\n",
              "\n",
              "    .dataframe thead th {\n",
              "        text-align: right;\n",
              "    }\n",
              "</style>\n",
              "<table border=\"1\" class=\"dataframe\">\n",
              "  <thead>\n",
              "    <tr style=\"text-align: right;\">\n",
              "      <th>7</th>\n",
              "      <th>Tn</th>\n",
              "      <th>Tx</th>\n",
              "      <th>Tavg</th>\n",
              "      <th>RH_avg</th>\n",
              "      <th>RR</th>\n",
              "      <th>ss</th>\n",
              "      <th>ff_x</th>\n",
              "      <th>ddd_x</th>\n",
              "      <th>ff_avg</th>\n",
              "      <th>ddd_car</th>\n",
              "    </tr>\n",
              "    <tr>\n",
              "      <th>Tanggal</th>\n",
              "      <th></th>\n",
              "      <th></th>\n",
              "      <th></th>\n",
              "      <th></th>\n",
              "      <th></th>\n",
              "      <th></th>\n",
              "      <th></th>\n",
              "      <th></th>\n",
              "      <th></th>\n",
              "      <th></th>\n",
              "    </tr>\n",
              "  </thead>\n",
              "  <tbody>\n",
              "    <tr>\n",
              "      <th>2000-01-01</th>\n",
              "      <td>19.0</td>\n",
              "      <td>28.6</td>\n",
              "      <td>23.5</td>\n",
              "      <td>78.0</td>\n",
              "      <td>2.8</td>\n",
              "      <td>6.6</td>\n",
              "      <td>3.0</td>\n",
              "      <td>270.0</td>\n",
              "      <td>3.0</td>\n",
              "      <td>W</td>\n",
              "    </tr>\n",
              "    <tr>\n",
              "      <th>2000-01-02</th>\n",
              "      <td>20.0</td>\n",
              "      <td>28.8</td>\n",
              "      <td>22.8</td>\n",
              "      <td>83.0</td>\n",
              "      <td>0.0</td>\n",
              "      <td>6.1</td>\n",
              "      <td>3.0</td>\n",
              "      <td>270.0</td>\n",
              "      <td>3.0</td>\n",
              "      <td>W</td>\n",
              "    </tr>\n",
              "    <tr>\n",
              "      <th>2000-01-03</th>\n",
              "      <td>19.0</td>\n",
              "      <td>29.0</td>\n",
              "      <td>23.2</td>\n",
              "      <td>82.0</td>\n",
              "      <td>1.8</td>\n",
              "      <td>6.1</td>\n",
              "      <td>4.0</td>\n",
              "      <td>270.0</td>\n",
              "      <td>3.0</td>\n",
              "      <td>W</td>\n",
              "    </tr>\n",
              "    <tr>\n",
              "      <th>2000-01-04</th>\n",
              "      <td>19.0</td>\n",
              "      <td>26.0</td>\n",
              "      <td>21.5</td>\n",
              "      <td>92.0</td>\n",
              "      <td>5.0</td>\n",
              "      <td>0.5</td>\n",
              "      <td>0.0</td>\n",
              "      <td>0.0</td>\n",
              "      <td>0.0</td>\n",
              "      <td>N</td>\n",
              "    </tr>\n",
              "    <tr>\n",
              "      <th>2000-01-05</th>\n",
              "      <td>18.0</td>\n",
              "      <td>28.4</td>\n",
              "      <td>22.6</td>\n",
              "      <td>83.0</td>\n",
              "      <td>28.4</td>\n",
              "      <td>3.0</td>\n",
              "      <td>0.0</td>\n",
              "      <td>0.0</td>\n",
              "      <td>0.0</td>\n",
              "      <td>N</td>\n",
              "    </tr>\n",
              "    <tr>\n",
              "      <th>...</th>\n",
              "      <td>...</td>\n",
              "      <td>...</td>\n",
              "      <td>...</td>\n",
              "      <td>...</td>\n",
              "      <td>...</td>\n",
              "      <td>...</td>\n",
              "      <td>...</td>\n",
              "      <td>...</td>\n",
              "      <td>...</td>\n",
              "      <td>...</td>\n",
              "    </tr>\n",
              "    <tr>\n",
              "      <th>2024-03-31</th>\n",
              "      <td>20.6</td>\n",
              "      <td>32.0</td>\n",
              "      <td>26.1</td>\n",
              "      <td>73.0</td>\n",
              "      <td>0.0</td>\n",
              "      <td>6.1</td>\n",
              "      <td>2.0</td>\n",
              "      <td>10.0</td>\n",
              "      <td>0.0</td>\n",
              "      <td>C</td>\n",
              "    </tr>\n",
              "    <tr>\n",
              "      <th>2024-04-01</th>\n",
              "      <td>20.4</td>\n",
              "      <td>30.4</td>\n",
              "      <td>24.8</td>\n",
              "      <td>81.0</td>\n",
              "      <td>0.4</td>\n",
              "      <td>6.8</td>\n",
              "      <td>3.0</td>\n",
              "      <td>300.0</td>\n",
              "      <td>0.0</td>\n",
              "      <td>C</td>\n",
              "    </tr>\n",
              "    <tr>\n",
              "      <th>2024-04-02</th>\n",
              "      <td>21.8</td>\n",
              "      <td>30.4</td>\n",
              "      <td>25.9</td>\n",
              "      <td>81.0</td>\n",
              "      <td>11.6</td>\n",
              "      <td>5.9</td>\n",
              "      <td>3.0</td>\n",
              "      <td>250.0</td>\n",
              "      <td>1.0</td>\n",
              "      <td>C</td>\n",
              "    </tr>\n",
              "    <tr>\n",
              "      <th>2024-04-03</th>\n",
              "      <td>21.4</td>\n",
              "      <td>30.8</td>\n",
              "      <td>25.4</td>\n",
              "      <td>81.0</td>\n",
              "      <td>5.6</td>\n",
              "      <td>6.0</td>\n",
              "      <td>3.0</td>\n",
              "      <td>90.0</td>\n",
              "      <td>0.0</td>\n",
              "      <td>C</td>\n",
              "    </tr>\n",
              "    <tr>\n",
              "      <th>2024-04-04</th>\n",
              "      <td>22.2</td>\n",
              "      <td>29.8</td>\n",
              "      <td>25.5</td>\n",
              "      <td>81.0</td>\n",
              "      <td>1.7</td>\n",
              "      <td>2.9</td>\n",
              "      <td>2.0</td>\n",
              "      <td>290.0</td>\n",
              "      <td>0.0</td>\n",
              "      <td>C</td>\n",
              "    </tr>\n",
              "  </tbody>\n",
              "</table>\n",
              "<p>8861 rows × 10 columns</p>\n",
              "</div>\n",
              "    <div class=\"colab-df-buttons\">\n",
              "\n",
              "  <div class=\"colab-df-container\">\n",
              "    <button class=\"colab-df-convert\" onclick=\"convertToInteractive('df-3ba81ffc-0c0b-468c-b650-49427f07beda')\"\n",
              "            title=\"Convert this dataframe to an interactive table.\"\n",
              "            style=\"display:none;\">\n",
              "\n",
              "  <svg xmlns=\"http://www.w3.org/2000/svg\" height=\"24px\" viewBox=\"0 -960 960 960\">\n",
              "    <path d=\"M120-120v-720h720v720H120Zm60-500h600v-160H180v160Zm220 220h160v-160H400v160Zm0 220h160v-160H400v160ZM180-400h160v-160H180v160Zm440 0h160v-160H620v160ZM180-180h160v-160H180v160Zm440 0h160v-160H620v160Z\"/>\n",
              "  </svg>\n",
              "    </button>\n",
              "\n",
              "  <style>\n",
              "    .colab-df-container {\n",
              "      display:flex;\n",
              "      gap: 12px;\n",
              "    }\n",
              "\n",
              "    .colab-df-convert {\n",
              "      background-color: #E8F0FE;\n",
              "      border: none;\n",
              "      border-radius: 50%;\n",
              "      cursor: pointer;\n",
              "      display: none;\n",
              "      fill: #1967D2;\n",
              "      height: 32px;\n",
              "      padding: 0 0 0 0;\n",
              "      width: 32px;\n",
              "    }\n",
              "\n",
              "    .colab-df-convert:hover {\n",
              "      background-color: #E2EBFA;\n",
              "      box-shadow: 0px 1px 2px rgba(60, 64, 67, 0.3), 0px 1px 3px 1px rgba(60, 64, 67, 0.15);\n",
              "      fill: #174EA6;\n",
              "    }\n",
              "\n",
              "    .colab-df-buttons div {\n",
              "      margin-bottom: 4px;\n",
              "    }\n",
              "\n",
              "    [theme=dark] .colab-df-convert {\n",
              "      background-color: #3B4455;\n",
              "      fill: #D2E3FC;\n",
              "    }\n",
              "\n",
              "    [theme=dark] .colab-df-convert:hover {\n",
              "      background-color: #434B5C;\n",
              "      box-shadow: 0px 1px 3px 1px rgba(0, 0, 0, 0.15);\n",
              "      filter: drop-shadow(0px 1px 2px rgba(0, 0, 0, 0.3));\n",
              "      fill: #FFFFFF;\n",
              "    }\n",
              "  </style>\n",
              "\n",
              "    <script>\n",
              "      const buttonEl =\n",
              "        document.querySelector('#df-3ba81ffc-0c0b-468c-b650-49427f07beda button.colab-df-convert');\n",
              "      buttonEl.style.display =\n",
              "        google.colab.kernel.accessAllowed ? 'block' : 'none';\n",
              "\n",
              "      async function convertToInteractive(key) {\n",
              "        const element = document.querySelector('#df-3ba81ffc-0c0b-468c-b650-49427f07beda');\n",
              "        const dataTable =\n",
              "          await google.colab.kernel.invokeFunction('convertToInteractive',\n",
              "                                                    [key], {});\n",
              "        if (!dataTable) return;\n",
              "\n",
              "        const docLinkHtml = 'Like what you see? Visit the ' +\n",
              "          '<a target=\"_blank\" href=https://colab.research.google.com/notebooks/data_table.ipynb>data table notebook</a>'\n",
              "          + ' to learn more about interactive tables.';\n",
              "        element.innerHTML = '';\n",
              "        dataTable['output_type'] = 'display_data';\n",
              "        await google.colab.output.renderOutput(dataTable, element);\n",
              "        const docLink = document.createElement('div');\n",
              "        docLink.innerHTML = docLinkHtml;\n",
              "        element.appendChild(docLink);\n",
              "      }\n",
              "    </script>\n",
              "  </div>\n",
              "\n",
              "\n",
              "<div id=\"df-35406098-1e45-4649-8475-fc3bc1b457ed\">\n",
              "  <button class=\"colab-df-quickchart\" onclick=\"quickchart('df-35406098-1e45-4649-8475-fc3bc1b457ed')\"\n",
              "            title=\"Suggest charts\"\n",
              "            style=\"display:none;\">\n",
              "\n",
              "<svg xmlns=\"http://www.w3.org/2000/svg\" height=\"24px\"viewBox=\"0 0 24 24\"\n",
              "     width=\"24px\">\n",
              "    <g>\n",
              "        <path d=\"M19 3H5c-1.1 0-2 .9-2 2v14c0 1.1.9 2 2 2h14c1.1 0 2-.9 2-2V5c0-1.1-.9-2-2-2zM9 17H7v-7h2v7zm4 0h-2V7h2v10zm4 0h-2v-4h2v4z\"/>\n",
              "    </g>\n",
              "</svg>\n",
              "  </button>\n",
              "\n",
              "<style>\n",
              "  .colab-df-quickchart {\n",
              "      --bg-color: #E8F0FE;\n",
              "      --fill-color: #1967D2;\n",
              "      --hover-bg-color: #E2EBFA;\n",
              "      --hover-fill-color: #174EA6;\n",
              "      --disabled-fill-color: #AAA;\n",
              "      --disabled-bg-color: #DDD;\n",
              "  }\n",
              "\n",
              "  [theme=dark] .colab-df-quickchart {\n",
              "      --bg-color: #3B4455;\n",
              "      --fill-color: #D2E3FC;\n",
              "      --hover-bg-color: #434B5C;\n",
              "      --hover-fill-color: #FFFFFF;\n",
              "      --disabled-bg-color: #3B4455;\n",
              "      --disabled-fill-color: #666;\n",
              "  }\n",
              "\n",
              "  .colab-df-quickchart {\n",
              "    background-color: var(--bg-color);\n",
              "    border: none;\n",
              "    border-radius: 50%;\n",
              "    cursor: pointer;\n",
              "    display: none;\n",
              "    fill: var(--fill-color);\n",
              "    height: 32px;\n",
              "    padding: 0;\n",
              "    width: 32px;\n",
              "  }\n",
              "\n",
              "  .colab-df-quickchart:hover {\n",
              "    background-color: var(--hover-bg-color);\n",
              "    box-shadow: 0 1px 2px rgba(60, 64, 67, 0.3), 0 1px 3px 1px rgba(60, 64, 67, 0.15);\n",
              "    fill: var(--button-hover-fill-color);\n",
              "  }\n",
              "\n",
              "  .colab-df-quickchart-complete:disabled,\n",
              "  .colab-df-quickchart-complete:disabled:hover {\n",
              "    background-color: var(--disabled-bg-color);\n",
              "    fill: var(--disabled-fill-color);\n",
              "    box-shadow: none;\n",
              "  }\n",
              "\n",
              "  .colab-df-spinner {\n",
              "    border: 2px solid var(--fill-color);\n",
              "    border-color: transparent;\n",
              "    border-bottom-color: var(--fill-color);\n",
              "    animation:\n",
              "      spin 1s steps(1) infinite;\n",
              "  }\n",
              "\n",
              "  @keyframes spin {\n",
              "    0% {\n",
              "      border-color: transparent;\n",
              "      border-bottom-color: var(--fill-color);\n",
              "      border-left-color: var(--fill-color);\n",
              "    }\n",
              "    20% {\n",
              "      border-color: transparent;\n",
              "      border-left-color: var(--fill-color);\n",
              "      border-top-color: var(--fill-color);\n",
              "    }\n",
              "    30% {\n",
              "      border-color: transparent;\n",
              "      border-left-color: var(--fill-color);\n",
              "      border-top-color: var(--fill-color);\n",
              "      border-right-color: var(--fill-color);\n",
              "    }\n",
              "    40% {\n",
              "      border-color: transparent;\n",
              "      border-right-color: var(--fill-color);\n",
              "      border-top-color: var(--fill-color);\n",
              "    }\n",
              "    60% {\n",
              "      border-color: transparent;\n",
              "      border-right-color: var(--fill-color);\n",
              "    }\n",
              "    80% {\n",
              "      border-color: transparent;\n",
              "      border-right-color: var(--fill-color);\n",
              "      border-bottom-color: var(--fill-color);\n",
              "    }\n",
              "    90% {\n",
              "      border-color: transparent;\n",
              "      border-bottom-color: var(--fill-color);\n",
              "    }\n",
              "  }\n",
              "</style>\n",
              "\n",
              "  <script>\n",
              "    async function quickchart(key) {\n",
              "      const quickchartButtonEl =\n",
              "        document.querySelector('#' + key + ' button');\n",
              "      quickchartButtonEl.disabled = true;  // To prevent multiple clicks.\n",
              "      quickchartButtonEl.classList.add('colab-df-spinner');\n",
              "      try {\n",
              "        const charts = await google.colab.kernel.invokeFunction(\n",
              "            'suggestCharts', [key], {});\n",
              "      } catch (error) {\n",
              "        console.error('Error during call to suggestCharts:', error);\n",
              "      }\n",
              "      quickchartButtonEl.classList.remove('colab-df-spinner');\n",
              "      quickchartButtonEl.classList.add('colab-df-quickchart-complete');\n",
              "    }\n",
              "    (() => {\n",
              "      let quickchartButtonEl =\n",
              "        document.querySelector('#df-35406098-1e45-4649-8475-fc3bc1b457ed button');\n",
              "      quickchartButtonEl.style.display =\n",
              "        google.colab.kernel.accessAllowed ? 'block' : 'none';\n",
              "    })();\n",
              "  </script>\n",
              "</div>\n",
              "    </div>\n",
              "  </div>\n"
            ],
            "application/vnd.google.colaboratory.intrinsic+json": {
              "type": "dataframe",
              "variable_name": "Bandung_met_copy",
              "summary": "{\n  \"name\": \"Bandung_met_copy\",\n  \"rows\": 8861,\n  \"fields\": [\n    {\n      \"column\": \"Tanggal\",\n      \"properties\": {\n        \"dtype\": \"date\",\n        \"min\": \"2000-01-01 00:00:00\",\n        \"max\": \"2024-04-04 00:00:00\",\n        \"num_unique_values\": 8861,\n        \"samples\": [\n          \"2017-03-14 00:00:00\",\n          \"2017-11-03 00:00:00\",\n          \"2016-04-19 00:00:00\"\n        ],\n        \"semantic_type\": \"\",\n        \"description\": \"\"\n      }\n    },\n    {\n      \"column\": \"Tn\",\n      \"properties\": {\n        \"dtype\": \"number\",\n        \"std\": 1.3539639773655583,\n        \"min\": 13.0,\n        \"max\": 29.0,\n        \"num_unique_values\": 163,\n        \"samples\": [\n          19.75714285714286,\n          18.7,\n          19.685714285714287\n        ],\n        \"semantic_type\": \"\",\n        \"description\": \"\"\n      }\n    },\n    {\n      \"column\": \"Tx\",\n      \"properties\": {\n        \"dtype\": \"number\",\n        \"std\": 1.629026377426452,\n        \"min\": 18.8,\n        \"max\": 36.0,\n        \"num_unique_values\": 282,\n        \"samples\": [\n          29.1,\n          24.4,\n          28.666666666666668\n        ],\n        \"semantic_type\": \"\",\n        \"description\": \"\"\n      }\n    },\n    {\n      \"column\": \"Tavg\",\n      \"properties\": {\n        \"dtype\": \"number\",\n        \"std\": 0.9773002768955573,\n        \"min\": 18.4,\n        \"max\": 28.9,\n        \"num_unique_values\": 198,\n        \"samples\": [\n          27.0,\n          24.46,\n          21.8\n        ],\n        \"semantic_type\": \"\",\n        \"description\": \"\"\n      }\n    },\n    {\n      \"column\": \"RH_avg\",\n      \"properties\": {\n        \"dtype\": \"number\",\n        \"std\": 7.661183578041807,\n        \"min\": 42.0,\n        \"max\": 96.0,\n        \"num_unique_values\": 281,\n        \"samples\": [\n          63.0,\n          96.0,\n          72.87096774193549\n        ],\n        \"semantic_type\": \"\",\n        \"description\": \"\"\n      }\n    },\n    {\n      \"column\": \"RR\",\n      \"properties\": {\n        \"dtype\": \"number\",\n        \"std\": 12.296378612476621,\n        \"min\": 0.0,\n        \"max\": 160.0,\n        \"num_unique_values\": 555,\n        \"samples\": [\n          37.0,\n          59.6,\n          23.9\n        ],\n        \"semantic_type\": \"\",\n        \"description\": \"\"\n      }\n    },\n    {\n      \"column\": \"ss\",\n      \"properties\": {\n        \"dtype\": \"number\",\n        \"std\": 2.3751527440630387,\n        \"min\": 0.0,\n        \"max\": 10.0,\n        \"num_unique_values\": 101,\n        \"samples\": [\n          9.2,\n          5.4,\n          7.6\n        ],\n        \"semantic_type\": \"\",\n        \"description\": \"\"\n      }\n    },\n    {\n      \"column\": \"ff_x\",\n      \"properties\": {\n        \"dtype\": \"number\",\n        \"std\": 1.5079174091109753,\n        \"min\": 0.0,\n        \"max\": 36.0,\n        \"num_unique_values\": 18,\n        \"samples\": [\n          3.0,\n          4.0,\n          10.0\n        ],\n        \"semantic_type\": \"\",\n        \"description\": \"\"\n      }\n    },\n    {\n      \"column\": \"ddd_x\",\n      \"properties\": {\n        \"dtype\": \"number\",\n        \"std\": 101.31818789864208,\n        \"min\": 0.0,\n        \"max\": 888.0,\n        \"num_unique_values\": 221,\n        \"samples\": [\n          125.0,\n          58.0,\n          155.0\n        ],\n        \"semantic_type\": \"\",\n        \"description\": \"\"\n      }\n    },\n    {\n      \"column\": \"ff_avg\",\n      \"properties\": {\n        \"dtype\": \"number\",\n        \"std\": 1.0382980435165787,\n        \"min\": 0.0,\n        \"max\": 15.0,\n        \"num_unique_values\": 9,\n        \"samples\": [\n          7.0,\n          0.0,\n          5.0\n        ],\n        \"semantic_type\": \"\",\n        \"description\": \"\"\n      }\n    },\n    {\n      \"column\": \"ddd_car\",\n      \"properties\": {\n        \"dtype\": \"category\",\n        \"num_unique_values\": 9,\n        \"samples\": [\n          \"SE\",\n          \"N \",\n          \"NW\"\n        ],\n        \"semantic_type\": \"\",\n        \"description\": \"\"\n      }\n    }\n  ]\n}"
            }
          },
          "metadata": {},
          "execution_count": 37
        }
      ]
    },
    {
      "cell_type": "code",
      "source": [
        "Bandung_rr=Bandung_met_copy['RR']\n",
        "Bandung_rr"
      ],
      "metadata": {
        "colab": {
          "base_uri": "https://localhost:8080/"
        },
        "id": "ty9XJraTXbfq",
        "outputId": "d63bde7b-2a1d-4caa-9bd2-008bd3602fd6"
      },
      "execution_count": 38,
      "outputs": [
        {
          "output_type": "execute_result",
          "data": {
            "text/plain": [
              "Tanggal\n",
              "2000-01-01     2.8\n",
              "2000-01-02     0.0\n",
              "2000-01-03     1.8\n",
              "2000-01-04     5.0\n",
              "2000-01-05    28.4\n",
              "              ... \n",
              "2024-03-31     0.0\n",
              "2024-04-01     0.4\n",
              "2024-04-02    11.6\n",
              "2024-04-03     5.6\n",
              "2024-04-04     1.7\n",
              "Name: RR, Length: 8861, dtype: float64"
            ]
          },
          "metadata": {},
          "execution_count": 38
        }
      ]
    },
    {
      "cell_type": "markdown",
      "source": [
        "## Split Train and Test data"
      ],
      "metadata": {
        "id": "oGSqIcUmiO_i"
      }
    },
    {
      "cell_type": "code",
      "source": [
        "# Create X and y data with size of window=2\n",
        "window = 7\n",
        "X = []\n",
        "y = []\n",
        "\n",
        "for index in range(0, len(Bandung_rr)-window):\n",
        "    X.append(Bandung_rr.squeeze()[index : window + index].values.tolist())\n",
        "    y.append(Bandung_rr.squeeze()[window + index])\n",
        "\n",
        "X = np.array(X)\n",
        "y = np.array(y)"
      ],
      "metadata": {
        "id": "C8k4zQaFX9ad"
      },
      "execution_count": 39,
      "outputs": []
    },
    {
      "cell_type": "code",
      "source": [
        "# make dataframe from X and y\n",
        "\n",
        "X_y_df = pd.concat([pd.DataFrame(X, columns=['X'+str(x) for x in range (1,8)]), pd.DataFrame(y, columns=['y'])], axis=1)\n",
        "X_y_df"
      ],
      "metadata": {
        "colab": {
          "base_uri": "https://localhost:8080/",
          "height": 423
        },
        "id": "rQd8hFLqX9W8",
        "outputId": "fc29aa64-586c-453b-c33e-a890a69f1a32"
      },
      "execution_count": 8,
      "outputs": [
        {
          "output_type": "execute_result",
          "data": {
            "text/plain": [
              "        X1    X2    X3    X4    X5    X6    X7     y\n",
              "0      2.8   0.0   1.8   5.0  28.4  19.1   8.8  32.0\n",
              "1      0.0   1.8   5.0  28.4  19.1   8.8  32.0  24.9\n",
              "2      1.8   5.0  28.4  19.1   8.8  32.0  24.9  19.5\n",
              "3      5.0  28.4  19.1   8.8  32.0  24.9  19.5   0.5\n",
              "4     28.4  19.1   8.8  32.0  24.9  19.5   0.5  40.0\n",
              "...    ...   ...   ...   ...   ...   ...   ...   ...\n",
              "8849   1.0   1.2  32.1  18.8   4.3  54.0   8.2   0.0\n",
              "8850   1.2  32.1  18.8   4.3  54.0   8.2   0.0   0.4\n",
              "8851  32.1  18.8   4.3  54.0   8.2   0.0   0.4  11.6\n",
              "8852  18.8   4.3  54.0   8.2   0.0   0.4  11.6   5.6\n",
              "8853   4.3  54.0   8.2   0.0   0.4  11.6   5.6   1.7\n",
              "\n",
              "[8854 rows x 8 columns]"
            ],
            "text/html": [
              "\n",
              "  <div id=\"df-d9638d58-f417-4cee-8447-0a8eade4d8b0\" class=\"colab-df-container\">\n",
              "    <div>\n",
              "<style scoped>\n",
              "    .dataframe tbody tr th:only-of-type {\n",
              "        vertical-align: middle;\n",
              "    }\n",
              "\n",
              "    .dataframe tbody tr th {\n",
              "        vertical-align: top;\n",
              "    }\n",
              "\n",
              "    .dataframe thead th {\n",
              "        text-align: right;\n",
              "    }\n",
              "</style>\n",
              "<table border=\"1\" class=\"dataframe\">\n",
              "  <thead>\n",
              "    <tr style=\"text-align: right;\">\n",
              "      <th></th>\n",
              "      <th>X1</th>\n",
              "      <th>X2</th>\n",
              "      <th>X3</th>\n",
              "      <th>X4</th>\n",
              "      <th>X5</th>\n",
              "      <th>X6</th>\n",
              "      <th>X7</th>\n",
              "      <th>y</th>\n",
              "    </tr>\n",
              "  </thead>\n",
              "  <tbody>\n",
              "    <tr>\n",
              "      <th>0</th>\n",
              "      <td>2.8</td>\n",
              "      <td>0.0</td>\n",
              "      <td>1.8</td>\n",
              "      <td>5.0</td>\n",
              "      <td>28.4</td>\n",
              "      <td>19.1</td>\n",
              "      <td>8.8</td>\n",
              "      <td>32.0</td>\n",
              "    </tr>\n",
              "    <tr>\n",
              "      <th>1</th>\n",
              "      <td>0.0</td>\n",
              "      <td>1.8</td>\n",
              "      <td>5.0</td>\n",
              "      <td>28.4</td>\n",
              "      <td>19.1</td>\n",
              "      <td>8.8</td>\n",
              "      <td>32.0</td>\n",
              "      <td>24.9</td>\n",
              "    </tr>\n",
              "    <tr>\n",
              "      <th>2</th>\n",
              "      <td>1.8</td>\n",
              "      <td>5.0</td>\n",
              "      <td>28.4</td>\n",
              "      <td>19.1</td>\n",
              "      <td>8.8</td>\n",
              "      <td>32.0</td>\n",
              "      <td>24.9</td>\n",
              "      <td>19.5</td>\n",
              "    </tr>\n",
              "    <tr>\n",
              "      <th>3</th>\n",
              "      <td>5.0</td>\n",
              "      <td>28.4</td>\n",
              "      <td>19.1</td>\n",
              "      <td>8.8</td>\n",
              "      <td>32.0</td>\n",
              "      <td>24.9</td>\n",
              "      <td>19.5</td>\n",
              "      <td>0.5</td>\n",
              "    </tr>\n",
              "    <tr>\n",
              "      <th>4</th>\n",
              "      <td>28.4</td>\n",
              "      <td>19.1</td>\n",
              "      <td>8.8</td>\n",
              "      <td>32.0</td>\n",
              "      <td>24.9</td>\n",
              "      <td>19.5</td>\n",
              "      <td>0.5</td>\n",
              "      <td>40.0</td>\n",
              "    </tr>\n",
              "    <tr>\n",
              "      <th>...</th>\n",
              "      <td>...</td>\n",
              "      <td>...</td>\n",
              "      <td>...</td>\n",
              "      <td>...</td>\n",
              "      <td>...</td>\n",
              "      <td>...</td>\n",
              "      <td>...</td>\n",
              "      <td>...</td>\n",
              "    </tr>\n",
              "    <tr>\n",
              "      <th>8849</th>\n",
              "      <td>1.0</td>\n",
              "      <td>1.2</td>\n",
              "      <td>32.1</td>\n",
              "      <td>18.8</td>\n",
              "      <td>4.3</td>\n",
              "      <td>54.0</td>\n",
              "      <td>8.2</td>\n",
              "      <td>0.0</td>\n",
              "    </tr>\n",
              "    <tr>\n",
              "      <th>8850</th>\n",
              "      <td>1.2</td>\n",
              "      <td>32.1</td>\n",
              "      <td>18.8</td>\n",
              "      <td>4.3</td>\n",
              "      <td>54.0</td>\n",
              "      <td>8.2</td>\n",
              "      <td>0.0</td>\n",
              "      <td>0.4</td>\n",
              "    </tr>\n",
              "    <tr>\n",
              "      <th>8851</th>\n",
              "      <td>32.1</td>\n",
              "      <td>18.8</td>\n",
              "      <td>4.3</td>\n",
              "      <td>54.0</td>\n",
              "      <td>8.2</td>\n",
              "      <td>0.0</td>\n",
              "      <td>0.4</td>\n",
              "      <td>11.6</td>\n",
              "    </tr>\n",
              "    <tr>\n",
              "      <th>8852</th>\n",
              "      <td>18.8</td>\n",
              "      <td>4.3</td>\n",
              "      <td>54.0</td>\n",
              "      <td>8.2</td>\n",
              "      <td>0.0</td>\n",
              "      <td>0.4</td>\n",
              "      <td>11.6</td>\n",
              "      <td>5.6</td>\n",
              "    </tr>\n",
              "    <tr>\n",
              "      <th>8853</th>\n",
              "      <td>4.3</td>\n",
              "      <td>54.0</td>\n",
              "      <td>8.2</td>\n",
              "      <td>0.0</td>\n",
              "      <td>0.4</td>\n",
              "      <td>11.6</td>\n",
              "      <td>5.6</td>\n",
              "      <td>1.7</td>\n",
              "    </tr>\n",
              "  </tbody>\n",
              "</table>\n",
              "<p>8854 rows × 8 columns</p>\n",
              "</div>\n",
              "    <div class=\"colab-df-buttons\">\n",
              "\n",
              "  <div class=\"colab-df-container\">\n",
              "    <button class=\"colab-df-convert\" onclick=\"convertToInteractive('df-d9638d58-f417-4cee-8447-0a8eade4d8b0')\"\n",
              "            title=\"Convert this dataframe to an interactive table.\"\n",
              "            style=\"display:none;\">\n",
              "\n",
              "  <svg xmlns=\"http://www.w3.org/2000/svg\" height=\"24px\" viewBox=\"0 -960 960 960\">\n",
              "    <path d=\"M120-120v-720h720v720H120Zm60-500h600v-160H180v160Zm220 220h160v-160H400v160Zm0 220h160v-160H400v160ZM180-400h160v-160H180v160Zm440 0h160v-160H620v160ZM180-180h160v-160H180v160Zm440 0h160v-160H620v160Z\"/>\n",
              "  </svg>\n",
              "    </button>\n",
              "\n",
              "  <style>\n",
              "    .colab-df-container {\n",
              "      display:flex;\n",
              "      gap: 12px;\n",
              "    }\n",
              "\n",
              "    .colab-df-convert {\n",
              "      background-color: #E8F0FE;\n",
              "      border: none;\n",
              "      border-radius: 50%;\n",
              "      cursor: pointer;\n",
              "      display: none;\n",
              "      fill: #1967D2;\n",
              "      height: 32px;\n",
              "      padding: 0 0 0 0;\n",
              "      width: 32px;\n",
              "    }\n",
              "\n",
              "    .colab-df-convert:hover {\n",
              "      background-color: #E2EBFA;\n",
              "      box-shadow: 0px 1px 2px rgba(60, 64, 67, 0.3), 0px 1px 3px 1px rgba(60, 64, 67, 0.15);\n",
              "      fill: #174EA6;\n",
              "    }\n",
              "\n",
              "    .colab-df-buttons div {\n",
              "      margin-bottom: 4px;\n",
              "    }\n",
              "\n",
              "    [theme=dark] .colab-df-convert {\n",
              "      background-color: #3B4455;\n",
              "      fill: #D2E3FC;\n",
              "    }\n",
              "\n",
              "    [theme=dark] .colab-df-convert:hover {\n",
              "      background-color: #434B5C;\n",
              "      box-shadow: 0px 1px 3px 1px rgba(0, 0, 0, 0.15);\n",
              "      filter: drop-shadow(0px 1px 2px rgba(0, 0, 0, 0.3));\n",
              "      fill: #FFFFFF;\n",
              "    }\n",
              "  </style>\n",
              "\n",
              "    <script>\n",
              "      const buttonEl =\n",
              "        document.querySelector('#df-d9638d58-f417-4cee-8447-0a8eade4d8b0 button.colab-df-convert');\n",
              "      buttonEl.style.display =\n",
              "        google.colab.kernel.accessAllowed ? 'block' : 'none';\n",
              "\n",
              "      async function convertToInteractive(key) {\n",
              "        const element = document.querySelector('#df-d9638d58-f417-4cee-8447-0a8eade4d8b0');\n",
              "        const dataTable =\n",
              "          await google.colab.kernel.invokeFunction('convertToInteractive',\n",
              "                                                    [key], {});\n",
              "        if (!dataTable) return;\n",
              "\n",
              "        const docLinkHtml = 'Like what you see? Visit the ' +\n",
              "          '<a target=\"_blank\" href=https://colab.research.google.com/notebooks/data_table.ipynb>data table notebook</a>'\n",
              "          + ' to learn more about interactive tables.';\n",
              "        element.innerHTML = '';\n",
              "        dataTable['output_type'] = 'display_data';\n",
              "        await google.colab.output.renderOutput(dataTable, element);\n",
              "        const docLink = document.createElement('div');\n",
              "        docLink.innerHTML = docLinkHtml;\n",
              "        element.appendChild(docLink);\n",
              "      }\n",
              "    </script>\n",
              "  </div>\n",
              "\n",
              "\n",
              "<div id=\"df-88a20b54-db18-4190-af55-8e5f14da55f0\">\n",
              "  <button class=\"colab-df-quickchart\" onclick=\"quickchart('df-88a20b54-db18-4190-af55-8e5f14da55f0')\"\n",
              "            title=\"Suggest charts\"\n",
              "            style=\"display:none;\">\n",
              "\n",
              "<svg xmlns=\"http://www.w3.org/2000/svg\" height=\"24px\"viewBox=\"0 0 24 24\"\n",
              "     width=\"24px\">\n",
              "    <g>\n",
              "        <path d=\"M19 3H5c-1.1 0-2 .9-2 2v14c0 1.1.9 2 2 2h14c1.1 0 2-.9 2-2V5c0-1.1-.9-2-2-2zM9 17H7v-7h2v7zm4 0h-2V7h2v10zm4 0h-2v-4h2v4z\"/>\n",
              "    </g>\n",
              "</svg>\n",
              "  </button>\n",
              "\n",
              "<style>\n",
              "  .colab-df-quickchart {\n",
              "      --bg-color: #E8F0FE;\n",
              "      --fill-color: #1967D2;\n",
              "      --hover-bg-color: #E2EBFA;\n",
              "      --hover-fill-color: #174EA6;\n",
              "      --disabled-fill-color: #AAA;\n",
              "      --disabled-bg-color: #DDD;\n",
              "  }\n",
              "\n",
              "  [theme=dark] .colab-df-quickchart {\n",
              "      --bg-color: #3B4455;\n",
              "      --fill-color: #D2E3FC;\n",
              "      --hover-bg-color: #434B5C;\n",
              "      --hover-fill-color: #FFFFFF;\n",
              "      --disabled-bg-color: #3B4455;\n",
              "      --disabled-fill-color: #666;\n",
              "  }\n",
              "\n",
              "  .colab-df-quickchart {\n",
              "    background-color: var(--bg-color);\n",
              "    border: none;\n",
              "    border-radius: 50%;\n",
              "    cursor: pointer;\n",
              "    display: none;\n",
              "    fill: var(--fill-color);\n",
              "    height: 32px;\n",
              "    padding: 0;\n",
              "    width: 32px;\n",
              "  }\n",
              "\n",
              "  .colab-df-quickchart:hover {\n",
              "    background-color: var(--hover-bg-color);\n",
              "    box-shadow: 0 1px 2px rgba(60, 64, 67, 0.3), 0 1px 3px 1px rgba(60, 64, 67, 0.15);\n",
              "    fill: var(--button-hover-fill-color);\n",
              "  }\n",
              "\n",
              "  .colab-df-quickchart-complete:disabled,\n",
              "  .colab-df-quickchart-complete:disabled:hover {\n",
              "    background-color: var(--disabled-bg-color);\n",
              "    fill: var(--disabled-fill-color);\n",
              "    box-shadow: none;\n",
              "  }\n",
              "\n",
              "  .colab-df-spinner {\n",
              "    border: 2px solid var(--fill-color);\n",
              "    border-color: transparent;\n",
              "    border-bottom-color: var(--fill-color);\n",
              "    animation:\n",
              "      spin 1s steps(1) infinite;\n",
              "  }\n",
              "\n",
              "  @keyframes spin {\n",
              "    0% {\n",
              "      border-color: transparent;\n",
              "      border-bottom-color: var(--fill-color);\n",
              "      border-left-color: var(--fill-color);\n",
              "    }\n",
              "    20% {\n",
              "      border-color: transparent;\n",
              "      border-left-color: var(--fill-color);\n",
              "      border-top-color: var(--fill-color);\n",
              "    }\n",
              "    30% {\n",
              "      border-color: transparent;\n",
              "      border-left-color: var(--fill-color);\n",
              "      border-top-color: var(--fill-color);\n",
              "      border-right-color: var(--fill-color);\n",
              "    }\n",
              "    40% {\n",
              "      border-color: transparent;\n",
              "      border-right-color: var(--fill-color);\n",
              "      border-top-color: var(--fill-color);\n",
              "    }\n",
              "    60% {\n",
              "      border-color: transparent;\n",
              "      border-right-color: var(--fill-color);\n",
              "    }\n",
              "    80% {\n",
              "      border-color: transparent;\n",
              "      border-right-color: var(--fill-color);\n",
              "      border-bottom-color: var(--fill-color);\n",
              "    }\n",
              "    90% {\n",
              "      border-color: transparent;\n",
              "      border-bottom-color: var(--fill-color);\n",
              "    }\n",
              "  }\n",
              "</style>\n",
              "\n",
              "  <script>\n",
              "    async function quickchart(key) {\n",
              "      const quickchartButtonEl =\n",
              "        document.querySelector('#' + key + ' button');\n",
              "      quickchartButtonEl.disabled = true;  // To prevent multiple clicks.\n",
              "      quickchartButtonEl.classList.add('colab-df-spinner');\n",
              "      try {\n",
              "        const charts = await google.colab.kernel.invokeFunction(\n",
              "            'suggestCharts', [key], {});\n",
              "      } catch (error) {\n",
              "        console.error('Error during call to suggestCharts:', error);\n",
              "      }\n",
              "      quickchartButtonEl.classList.remove('colab-df-spinner');\n",
              "      quickchartButtonEl.classList.add('colab-df-quickchart-complete');\n",
              "    }\n",
              "    (() => {\n",
              "      let quickchartButtonEl =\n",
              "        document.querySelector('#df-88a20b54-db18-4190-af55-8e5f14da55f0 button');\n",
              "      quickchartButtonEl.style.display =\n",
              "        google.colab.kernel.accessAllowed ? 'block' : 'none';\n",
              "    })();\n",
              "  </script>\n",
              "</div>\n",
              "    </div>\n",
              "  </div>\n"
            ],
            "application/vnd.google.colaboratory.intrinsic+json": {
              "type": "dataframe",
              "variable_name": "X_y_df",
              "summary": "{\n  \"name\": \"X_y_df\",\n  \"rows\": 8854,\n  \"fields\": [\n    {\n      \"column\": \"X1\",\n      \"properties\": {\n        \"dtype\": \"number\",\n        \"std\": 12.290116915329122,\n        \"min\": 0.0,\n        \"max\": 160.0,\n        \"num_unique_values\": 555,\n        \"samples\": [\n          37.0,\n          59.6,\n          23.9\n        ],\n        \"semantic_type\": \"\",\n        \"description\": \"\"\n      }\n    },\n    {\n      \"column\": \"X2\",\n      \"properties\": {\n        \"dtype\": \"number\",\n        \"std\": 12.30062376727502,\n        \"min\": 0.0,\n        \"max\": 160.0,\n        \"num_unique_values\": 555,\n        \"samples\": [\n          37.0,\n          59.6,\n          6.0\n        ],\n        \"semantic_type\": \"\",\n        \"description\": \"\"\n      }\n    },\n    {\n      \"column\": \"X3\",\n      \"properties\": {\n        \"dtype\": \"number\",\n        \"std\": 12.300475737749425,\n        \"min\": 0.0,\n        \"max\": 160.0,\n        \"num_unique_values\": 555,\n        \"samples\": [\n          37.0,\n          59.6,\n          6.0\n        ],\n        \"semantic_type\": \"\",\n        \"description\": \"\"\n      }\n    },\n    {\n      \"column\": \"X4\",\n      \"properties\": {\n        \"dtype\": \"number\",\n        \"std\": 12.300561132359299,\n        \"min\": 0.0,\n        \"max\": 160.0,\n        \"num_unique_values\": 555,\n        \"samples\": [\n          37.0,\n          59.6,\n          6.0\n        ],\n        \"semantic_type\": \"\",\n        \"description\": \"\"\n      }\n    },\n    {\n      \"column\": \"X5\",\n      \"properties\": {\n        \"dtype\": \"number\",\n        \"std\": 12.300703310937932,\n        \"min\": 0.0,\n        \"max\": 160.0,\n        \"num_unique_values\": 555,\n        \"samples\": [\n          37.0,\n          59.6,\n          44.2\n        ],\n        \"semantic_type\": \"\",\n        \"description\": \"\"\n      }\n    },\n    {\n      \"column\": \"X6\",\n      \"properties\": {\n        \"dtype\": \"number\",\n        \"std\": 12.29855327805267,\n        \"min\": 0.0,\n        \"max\": 160.0,\n        \"num_unique_values\": 555,\n        \"samples\": [\n          24.2,\n          59.6,\n          3.5\n        ],\n        \"semantic_type\": \"\",\n        \"description\": \"\"\n      }\n    },\n    {\n      \"column\": \"X7\",\n      \"properties\": {\n        \"dtype\": \"number\",\n        \"std\": 12.297773714387093,\n        \"min\": 0.0,\n        \"max\": 160.0,\n        \"num_unique_values\": 555,\n        \"samples\": [\n          18.9,\n          72.4,\n          1.4\n        ],\n        \"semantic_type\": \"\",\n        \"description\": \"\"\n      }\n    },\n    {\n      \"column\": \"y\",\n      \"properties\": {\n        \"dtype\": \"number\",\n        \"std\": 12.297826652655141,\n        \"min\": 0.0,\n        \"max\": 160.0,\n        \"num_unique_values\": 555,\n        \"samples\": [\n          18.9,\n          72.4,\n          30.5\n        ],\n        \"semantic_type\": \"\",\n        \"description\": \"\"\n      }\n    }\n  ]\n}"
            }
          },
          "metadata": {},
          "execution_count": 8
        }
      ]
    },
    {
      "cell_type": "code",
      "source": [
        "# Calculate sizes for train, validation, and test sets\n",
        "train_size = round(len(X) * 0.7)  # 70% for training\n",
        "val_size = round(len(X) * 0.15)    # 15% for validation\n",
        "test_size = len(X) - train_size - val_size  # Remaining for test\n",
        "\n",
        "# Split the data\n",
        "X_train = X[:train_size]\n",
        "y_train = y[:train_size]\n",
        "\n",
        "X_val = X[train_size:train_size + val_size]\n",
        "y_val = y[train_size:train_size + val_size]\n",
        "\n",
        "X_test = X[train_size + val_size:]\n",
        "y_test = y[train_size + val_size:]"
      ],
      "metadata": {
        "id": "D6l0WAd2iR-_"
      },
      "execution_count": 40,
      "outputs": []
    },
    {
      "cell_type": "code",
      "source": [
        "# Plot the train and test data after splitted\n",
        "Bandung_rr.squeeze()[:train_size].plot.line(figsize=(10,3))\n",
        "Bandung_rr.squeeze()[train_size:train_size + val_size].plot.line(figsize=(10,3))\n",
        "Bandung_rr.squeeze()[train_size + val_size:].plot.line(figsize=(10,3))\n",
        "plt.legend(['Train-Set', 'Validation-Set', 'Test-Set'])"
      ],
      "metadata": {
        "colab": {
          "base_uri": "https://localhost:8080/",
          "height": 329
        },
        "id": "KXzWl7KxabPh",
        "outputId": "aac69521-38e4-450c-a49e-e5dbd2f0f9de"
      },
      "execution_count": 41,
      "outputs": [
        {
          "output_type": "execute_result",
          "data": {
            "text/plain": [
              "<matplotlib.legend.Legend at 0x7ce7ea319060>"
            ]
          },
          "metadata": {},
          "execution_count": 41
        },
        {
          "output_type": "display_data",
          "data": {
            "text/plain": [
              "<Figure size 1000x300 with 1 Axes>"
            ],
            "image/png": "[encoded data removed]"
          },
          "metadata": {}
        }
      ]
    },
    {
      "cell_type": "markdown",
      "source": [
        "## Feature Scaling"
      ],
      "metadata": {
        "id": "MYxvy_sK-PCP"
      }
    },
    {
      "cell_type": "markdown",
      "source": [
        "### Check Skewness"
      ],
      "metadata": {
        "id": "_d9yd6SbbDub"
      }
    },
    {
      "cell_type": "code",
      "source": [
        "def find_skewed_boundaries(df, variable, distance,skew):\n",
        "\n",
        "    if ((skew>=0.5) | (skew<=-0.5)):\n",
        "\n",
        "        IQR = df[variable].quantile(0.75) - df[variable].quantile(0.25)\n",
        "\n",
        "        lower_boundary = df[variable].quantile(0.25) - (IQR * distance)\n",
        "        upper_boundary = df[variable].quantile(0.75) + (IQR * distance)\n",
        "\n",
        "    else:\n",
        "        lower_boundary=df[variable].mean() - (df[variable].std()*3)\n",
        "        upper_boundary=df[variable].mean() + (df[variable].std()*3)\n",
        "\n",
        "    return upper_boundary, lower_boundary\n",
        "\n",
        "# Function to create histogram and boxplot.\n",
        "# This functions takes a dataframe (df) and the variable of interest as arguments.\n",
        "\n",
        "def diagnostic_plots(df, variable):\n",
        "    # Define figure size\n",
        "    plt.figure(figsize=(16, 4))\n",
        "\n",
        "    # Histogram\n",
        "    plt.subplot(1, 2, 1)\n",
        "    sns.histplot(df[variable], bins=30, kde=True)\n",
        "    plt.title('Histogram')\n",
        "\n",
        "    # Boxplot\n",
        "    plt.subplot(1, 2, 2)\n",
        "    sns.boxplot(y=df[variable])\n",
        "    plt.title('Boxplot')\n",
        "\n",
        "    plt.show()"
      ],
      "metadata": {
        "id": "attYwHrzbCtp"
      },
      "execution_count": null,
      "outputs": []
    },
    {
      "cell_type": "code",
      "source": [
        "Bandung_rr=Bandung_rr.to_frame()"
      ],
      "metadata": {
        "id": "KVFXHfPhbmk9"
      },
      "execution_count": null,
      "outputs": []
    },
    {
      "cell_type": "code",
      "source": [
        "# Check the outlier in the data\n",
        "\n",
        "upper, lower=find_skewed_boundaries(Bandung_rr, 'RR', 1.5, Bandung_rr['RR'].skew())\n",
        "\n",
        "out_u=(len(Bandung_rr[Bandung_rr['RR'] > upper])/len(Bandung_rr) * 100)\n",
        "out_l=(len(Bandung_rr[Bandung_rr['RR'] < lower])/len(Bandung_rr) * 100)\n",
        "\n",
        "print('Rainfall')\n",
        "print('% Upper Outlier for quantity : {:.2f}%'.format(out_u))\n",
        "print('% Lower Outlier for quantity : {:.2f}%'.format(out_l))\n",
        "print('Skewness of quantity : {:.2f}'.format(Bandung_rr['RR'].skew()))\n",
        "diagnostic_plots(Bandung_rr, 'RR')"
      ],
      "metadata": {
        "id": "lH2mhaB5gPjd",
        "colab": {
          "base_uri": "https://localhost:8080/",
          "height": 484
        },
        "outputId": "fea12e21-178a-4c8d-9ad9-ea559d09c3a6"
      },
      "execution_count": null,
      "outputs": [
        {
          "output_type": "stream",
          "name": "stdout",
          "text": [
            "Rainfall\n",
            "% Upper Outlier for quantity : 13.11%\n",
            "% Lower Outlier for quantity : 0.00%\n",
            "Skewness of quantity : 3.32\n"
          ]
        },
        {
          "output_type": "display_data",
          "data": {
            "text/plain": [
              "<Figure size 1600x400 with 2 Axes>"
            ],
            "image/png": "[encoded data removed]"
          },
          "metadata": {}
        }
      ]
    },
    {
      "cell_type": "markdown",
      "source": [
        "### Feature Scaling"
      ],
      "metadata": {
        "id": "tdZSM0B1b4_u"
      }
    },
    {
      "cell_type": "code",
      "source": [
        "# Scaling the X data using MinMaxScaler\n",
        "scaler = RobustScaler()\n",
        "X_train_scaled = scaler.fit_transform(X_train)\n",
        "X_val_scaled = scaler.transform(X_val)\n",
        "X_test_scaled = scaler.transform(X_test)"
      ],
      "metadata": {
        "id": "EB5g3lo_b4PZ"
      },
      "execution_count": 42,
      "outputs": []
    },
    {
      "cell_type": "code",
      "source": [
        "X_train_scaled2 = X_train_scaled.reshape(-1, 1, 7)\n",
        "X_val_scaled2  = X_val_scaled.reshape(-1, 1, 7)\n",
        "X_test_scaled2 = X_test_scaled.reshape(-1, 1, 7)\n",
        "\n",
        "y_train2 = y_train.reshape(-1, 1, 1)\n",
        "y_val2 = y_val.reshape(-1, 1, 1)\n",
        "y_test2 = y_test.reshape(-1, 1, 1)"
      ],
      "metadata": {
        "colab": {
          "base_uri": "https://localhost:8080/",
          "height": 55
        },
        "id": "liPKaDLRxUnK",
        "outputId": "2559a5ae-c944-4097-89d7-fa4521596944"
      },
      "execution_count": 43,
      "outputs": [
        {
          "output_type": "execute_result",
          "data": {
            "text/plain": [
              "'model = Sequential()\\nmodel.add(LSTM(100, input_shape=(1, X_train_scaled2.shape[2]), return_sequences=True))\\nmodel.add(LSTM(5, return_sequences=True))\\nmodel.compile(loss=\"mean_absolute_error\", optimizer=\"adam\", metrics=[\\'accuracy\\'])\\n\\nhistory = model.fit(X_train_scaled2, y_train2, epochs=10, validation_data=(X_val_scaled2, y_val2))'"
            ],
            "application/vnd.google.colaboratory.intrinsic+json": {
              "type": "string"
            }
          },
          "metadata": {},
          "execution_count": 43
        }
      ]
    },
    {
      "cell_type": "code",
      "source": [
        "# Create datasets from tensor slices\n",
        "train_dataset = tf.data.Dataset.from_tensor_slices((X_train_scaled2, y_train2))\n",
        "val_dataset = tf.data.Dataset.from_tensor_slices((X_val_scaled2, y_val2))\n",
        "test_dataset = tf.data.Dataset.from_tensor_slices((X_test_scaled2, y_test2))\n",
        "\n",
        "# Shuffle and batch the datasets\n",
        "batch_size = 70\n",
        "train_dataset = train_dataset.shuffle(buffer_size=len(X_train_scaled2)).batch(batch_size)\n",
        "val_dataset = val_dataset.batch(batch_size)\n",
        "test_dataset = test_dataset.batch(batch_size)"
      ],
      "metadata": {
        "id": "1CTStJUSedR0"
      },
      "execution_count": 70,
      "outputs": []
    },
    {
      "cell_type": "markdown",
      "source": [
        "# Model Definition"
      ],
      "metadata": {
        "id": "FWR8ScRi-O-u"
      }
    },
    {
      "cell_type": "markdown",
      "source": [
        "LSTM Model\n",
        "\n",
        "\n",
        "- input layer\n",
        "- model sequential\n",
        "- regularization\n",
        "- optmizer\n",
        "- batch size\n",
        "- loss\n",
        "- metrics\n",
        "\n",
        "\n"
      ],
      "metadata": {
        "id": "itkQKcH8UKUU"
      }
    },
    {
      "cell_type": "markdown",
      "source": [
        "# Model Training"
      ],
      "metadata": {
        "id": "IK47s5VN-O8N"
      }
    },
    {
      "cell_type": "code",
      "source": [
        "%%time\n",
        "# Model definition\n",
        "model = tf.keras.Sequential([\n",
        "    tf.keras.layers.LSTM(8, input_shape=(1, X_train_scaled2.shape[2]), return_sequences=True),\n",
        "    tf.keras.layers.LSTM(16, return_sequences=True),\n",
        "])\n",
        "\n",
        "model.compile(loss=\"mean_absolute_error\", optimizer=\"adam\", metrics=['accuracy'])\n",
        "\n",
        "# Model training\n",
        "history = model.fit(train_dataset, epochs=10, validation_data=val_dataset)"
      ],
      "metadata": {
        "colab": {
          "base_uri": "https://localhost:8080/"
        },
        "id": "lCXbHqyyJi49",
        "outputId": "a138ce5f-07a0-45eb-eeac-7d5da87444a6"
      },
      "execution_count": 71,
      "outputs": [
        {
          "output_type": "stream",
          "name": "stdout",
          "text": [
            "Epoch 1/10\n",
            "89/89 [==============================] - 6s 20ms/step - loss: 6.0875 - accuracy: 0.0110 - val_loss: 6.0041 - val_accuracy: 0.0000e+00\n",
            "Epoch 2/10\n",
            "89/89 [==============================] - 1s 7ms/step - loss: 6.0789 - accuracy: 0.0037 - val_loss: 5.9856 - val_accuracy: 0.0015\n",
            "Epoch 3/10\n",
            "89/89 [==============================] - 1s 8ms/step - loss: 6.0417 - accuracy: 0.0160 - val_loss: 5.9272 - val_accuracy: 0.0392\n",
            "Epoch 4/10\n",
            "89/89 [==============================] - 0s 4ms/step - loss: 5.9973 - accuracy: 0.0540 - val_loss: 5.8996 - val_accuracy: 0.1830\n",
            "Epoch 5/10\n",
            "89/89 [==============================] - 0s 5ms/step - loss: 5.9820 - accuracy: 0.0634 - val_loss: 5.8906 - val_accuracy: 0.0535\n",
            "Epoch 6/10\n",
            "89/89 [==============================] - 0s 4ms/step - loss: 5.9750 - accuracy: 0.0558 - val_loss: 5.8867 - val_accuracy: 0.0467\n",
            "Epoch 7/10\n",
            "89/89 [==============================] - 0s 5ms/step - loss: 5.9706 - accuracy: 0.0626 - val_loss: 5.8840 - val_accuracy: 0.0459\n",
            "Epoch 8/10\n",
            "89/89 [==============================] - 0s 4ms/step - loss: 5.9678 - accuracy: 0.0666 - val_loss: 5.8822 - val_accuracy: 0.0467\n",
            "Epoch 9/10\n",
            "89/89 [==============================] - 0s 5ms/step - loss: 5.9656 - accuracy: 0.0624 - val_loss: 5.8804 - val_accuracy: 0.0459\n",
            "Epoch 10/10\n",
            "89/89 [==============================] - 0s 5ms/step - loss: 5.9640 - accuracy: 0.0639 - val_loss: 5.8792 - val_accuracy: 0.0482\n",
            "CPU times: user 10.9 s, sys: 264 ms, total: 11.2 s\n",
            "Wall time: 12.1 s\n"
          ]
        }
      ]
    },
    {
      "cell_type": "code",
      "source": [
        "model.summary()"
      ],
      "metadata": {
        "colab": {
          "base_uri": "https://localhost:8080/"
        },
        "id": "QUd1emuX5dZF",
        "outputId": "c8f9380f-4567-49fd-9863-311b1a255946"
      },
      "execution_count": 57,
      "outputs": [
        {
          "output_type": "stream",
          "name": "stdout",
          "text": [
            "Model: \"sequential_1\"\n",
            "_________________________________________________________________\n",
            " Layer (type)                Output Shape              Param #   \n",
            "=================================================================\n",
            " lstm_3 (LSTM)               (None, 1, 8)              512       \n",
            "                                                                 \n",
            " lstm_4 (LSTM)               (None, 1, 16)             1600      \n",
            "                                                                 \n",
            "=================================================================\n",
            "Total params: 2112 (8.25 KB)\n",
            "Trainable params: 2112 (8.25 KB)\n",
            "Non-trainable params: 0 (0.00 Byte)\n",
            "_________________________________________________________________\n"
          ]
        }
      ]
    },
    {
      "cell_type": "code",
      "source": [
        "%%time\n",
        "\n",
        "# Model Training dengan menggunakan Dense Layer\n",
        "seed = 20\n",
        "tf.keras.backend.clear_session()\n",
        "np.random.seed(seed)\n",
        "tf.random.set_seed(seed)\n",
        "\n",
        "model2 = Sequential([\n",
        "    Bidirectional(LSTM(32, return_sequences=True, kernel_initializer='HeNormal', recurrent_initializer='HeNormal',kernel_regularizer='l2', recurrent_regularizer='l2')),\n",
        "    tf.keras.layers.BatchNormalization(),\n",
        "    tf.keras.layers.Dropout(rate=0.01),\n",
        "\n",
        "    Bidirectional(LSTM(64, return_sequences=True,kernel_regularizer='l2')),\n",
        "    tf.keras.layers.BatchNormalization(),\n",
        "    tf.keras.layers.Dropout(rate=0.01),\n",
        "\n",
        "    Bidirectional(LSTM(128,kernel_regularizer='l2')),\n",
        "    tf.keras.layers.BatchNormalization(),\n",
        "    tf.keras.layers.Dropout(rate=0.01),\n",
        "\n",
        "    Dense(4,activation='softmax')\n",
        "\n",
        "])\n",
        "callback = tf.keras.callbacks.EarlyStopping(monitor='loss', patience=3)\n",
        "\n",
        "model2.compile(loss='mean_absolute_error',optimizer=tf.keras.optimizers.RMSprop(),metrics='accuracy')\n",
        "\n",
        "model_lstm_2 = model2.fit(train_dataset,\n",
        "                         epochs=30,\n",
        "                         callbacks=[callback],\n",
        "                         validation_data=val_dataset)"
      ],
      "metadata": {
        "colab": {
          "base_uri": "https://localhost:8080/"
        },
        "id": "0TSHFfSQepY5",
        "outputId": "4247267b-bb09-423c-ff71-2c1bfda089fb"
      },
      "execution_count": 74,
      "outputs": [
        {
          "output_type": "stream",
          "name": "stdout",
          "text": [
            "Epoch 1/30\n",
            "89/89 [==============================] - 18s 64ms/step - loss: 15.9071 - accuracy: 0.1308 - val_loss: 12.5382 - val_accuracy: 0.4571\n",
            "Epoch 2/30\n",
            "89/89 [==============================] - 3s 34ms/step - loss: 11.2503 - accuracy: 0.1317 - val_loss: 10.0194 - val_accuracy: 0.3366\n",
            "Epoch 3/30\n",
            "89/89 [==============================] - 2s 18ms/step - loss: 9.2969 - accuracy: 0.1257 - val_loss: 8.5053 - val_accuracy: 0.0060\n",
            "Epoch 4/30\n",
            "89/89 [==============================] - 2s 23ms/step - loss: 8.0781 - accuracy: 0.2144 - val_loss: 7.5599 - val_accuracy: 0.5000\n",
            "Epoch 5/30\n",
            "89/89 [==============================] - 2s 24ms/step - loss: 7.3258 - accuracy: 0.4916 - val_loss: 6.9789 - val_accuracy: 0.5000\n",
            "Epoch 6/30\n",
            "89/89 [==============================] - 2s 18ms/step - loss: 6.8626 - accuracy: 0.4916 - val_loss: 6.6175 - val_accuracy: 0.5000\n",
            "Epoch 7/30\n",
            "89/89 [==============================] - 3s 31ms/step - loss: 6.5690 - accuracy: 0.4916 - val_loss: 6.3816 - val_accuracy: 0.5000\n",
            "Epoch 8/30\n",
            "89/89 [==============================] - 2s 19ms/step - loss: 6.3728 - accuracy: 0.4916 - val_loss: 6.2218 - val_accuracy: 0.5000\n",
            "Epoch 9/30\n",
            "89/89 [==============================] - 2s 18ms/step - loss: 6.2424 - accuracy: 0.4916 - val_loss: 6.1191 - val_accuracy: 0.5000\n",
            "Epoch 10/30\n",
            "89/89 [==============================] - 2s 17ms/step - loss: 6.1617 - accuracy: 0.4916 - val_loss: 6.0589 - val_accuracy: 0.5000\n",
            "Epoch 11/30\n",
            "89/89 [==============================] - 2s 17ms/step - loss: 6.1169 - accuracy: 0.4916 - val_loss: 6.0278 - val_accuracy: 0.5000\n",
            "Epoch 12/30\n",
            "89/89 [==============================] - 2s 17ms/step - loss: 6.0954 - accuracy: 0.4916 - val_loss: 6.0144 - val_accuracy: 0.5000\n",
            "Epoch 13/30\n",
            "89/89 [==============================] - 3s 35ms/step - loss: 6.0871 - accuracy: 0.4916 - val_loss: 6.0102 - val_accuracy: 0.5000\n",
            "Epoch 14/30\n",
            "89/89 [==============================] - 2s 17ms/step - loss: 6.0850 - accuracy: 0.4916 - val_loss: 6.0096 - val_accuracy: 0.5000\n",
            "Epoch 15/30\n",
            "89/89 [==============================] - 1s 17ms/step - loss: 6.0849 - accuracy: 0.4916 - val_loss: 6.0096 - val_accuracy: 0.5000\n",
            "Epoch 16/30\n",
            "89/89 [==============================] - 2s 17ms/step - loss: 6.0849 - accuracy: 0.4916 - val_loss: 6.0096 - val_accuracy: 0.5000\n",
            "Epoch 17/30\n",
            "89/89 [==============================] - 2s 18ms/step - loss: 6.0849 - accuracy: 0.4916 - val_loss: 6.0096 - val_accuracy: 0.5000\n",
            "Epoch 18/30\n",
            "89/89 [==============================] - 4s 45ms/step - loss: 6.0849 - accuracy: 0.4916 - val_loss: 6.0096 - val_accuracy: 0.5000\n",
            "CPU times: user 1min 2s, sys: 1.67 s, total: 1min 4s\n",
            "Wall time: 1min 6s\n"
          ]
        }
      ]
    },
    {
      "cell_type": "code",
      "source": [
        "model.summary()"
      ],
      "metadata": {
        "colab": {
          "base_uri": "https://localhost:8080/"
        },
        "id": "e8IBYuJqYawI",
        "outputId": "8e854d6c-45f4-440d-eeb3-312f18818662"
      },
      "execution_count": 73,
      "outputs": [
        {
          "output_type": "stream",
          "name": "stdout",
          "text": [
            "Model: \"sequential_2\"\n",
            "_________________________________________________________________\n",
            " Layer (type)                Output Shape              Param #   \n",
            "=================================================================\n",
            " lstm_5 (LSTM)               (None, 1, 8)              512       \n",
            "                                                                 \n",
            " lstm_6 (LSTM)               (None, 1, 16)             1600      \n",
            "                                                                 \n",
            "=================================================================\n",
            "Total params: 2112 (8.25 KB)\n",
            "Trainable params: 2112 (8.25 KB)\n",
            "Non-trainable params: 0 (0.00 Byte)\n",
            "_________________________________________________________________\n"
          ]
        }
      ]
    },
    {
      "cell_type": "markdown",
      "source": [
        "# Model Evaluation"
      ],
      "metadata": {
        "id": "EunsKsTV-cs8"
      }
    },
    {
      "cell_type": "code",
      "source": [
        "# Evaluation of the model\n",
        "\n",
        "metrics2 = pd.DataFrame(model_lstm_2.history)\n",
        "\n",
        "# Evaluate the loss and accuracy of the model\n",
        "epoch=35\n",
        "\n",
        "fig, ax = plt.subplots(ncols=2,figsize=(16,5))\n",
        "ax[0].plot(range(1,18+1),model_lstm_2.history['loss'],label='loss')\n",
        "ax[0].plot(range(1,18+1),model_lstm_2.history['val_loss'],label='val_loss')\n",
        "ax[0].set_title('Loss')\n",
        "ax[0].legend()\n",
        "ax[0].set_xlabel('Epoch')\n",
        "\n",
        "ax[1].plot(range(1,18+1),model_lstm_2.history['accuracy'],label='accuracy')\n",
        "ax[1].plot(range(1,18+1),model_lstm_2.history['val_accuracy'],label='val_accuracy')\n",
        "ax[1].set_title('accuracy')\n",
        "ax[1].legend()\n",
        "ax[1].set_xlabel('Epoch')\n",
        "\n",
        "plt.show()"
      ],
      "metadata": {
        "id": "0r4bOxFO-BHI",
        "colab": {
          "base_uri": "https://localhost:8080/",
          "height": 487
        },
        "outputId": "c43eb7ad-5fca-40b0-ed32-9cc4a1b8d407"
      },
      "execution_count": 77,
      "outputs": [
        {
          "output_type": "display_data",
          "data": {
            "text/plain": [
              "<Figure size 1600x500 with 2 Axes>"
            ],
            "image/png": "[encoded data removed]"
          },
          "metadata": {}
        }
      ]
    }
  ]
}